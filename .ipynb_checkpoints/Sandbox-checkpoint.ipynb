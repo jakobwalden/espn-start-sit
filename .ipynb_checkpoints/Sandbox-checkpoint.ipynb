{
 "cells": [
  {
   "cell_type": "code",
   "execution_count": 2,
   "id": "8fa8cd9c-17e5-4a94-9b15-ab76f7e4f7f9",
   "metadata": {},
   "outputs": [
    {
     "name": "stdout",
     "output_type": "stream",
     "text": [
      "Defaulting to user installation because normal site-packages is not writeable\n",
      "Collecting python-dotenv\n",
      "  Using cached python_dotenv-1.1.1-py3-none-any.whl.metadata (24 kB)\n",
      "Collecting espn-api\n",
      "  Using cached espn_api-0.45.1-py3-none-any.whl.metadata (3.3 kB)\n",
      "Requirement already satisfied: pandas in c:\\users\\jakobwalden\\appdata\\local\\packages\\pythonsoftwarefoundation.python.3.13_qbz5n2kfra8p0\\localcache\\local-packages\\python313\\site-packages (2.3.1)\n",
      "Requirement already satisfied: requests<3.0.0,>=2.0.0 in c:\\users\\jakobwalden\\appdata\\local\\packages\\pythonsoftwarefoundation.python.3.13_qbz5n2kfra8p0\\localcache\\local-packages\\python313\\site-packages (from espn-api) (2.32.3)\n",
      "Collecting urllib3<=2.2.3 (from espn-api)\n",
      "  Using cached urllib3-2.2.3-py3-none-any.whl.metadata (6.5 kB)\n",
      "Requirement already satisfied: numpy>=1.26.0 in c:\\users\\jakobwalden\\appdata\\local\\packages\\pythonsoftwarefoundation.python.3.13_qbz5n2kfra8p0\\localcache\\local-packages\\python313\\site-packages (from pandas) (2.2.6)\n",
      "Requirement already satisfied: python-dateutil>=2.8.2 in c:\\users\\jakobwalden\\appdata\\local\\packages\\pythonsoftwarefoundation.python.3.13_qbz5n2kfra8p0\\localcache\\local-packages\\python313\\site-packages (from pandas) (2.9.0.post0)\n",
      "Requirement already satisfied: pytz>=2020.1 in c:\\users\\jakobwalden\\appdata\\local\\packages\\pythonsoftwarefoundation.python.3.13_qbz5n2kfra8p0\\localcache\\local-packages\\python313\\site-packages (from pandas) (2025.2)\n",
      "Requirement already satisfied: tzdata>=2022.7 in c:\\users\\jakobwalden\\appdata\\local\\packages\\pythonsoftwarefoundation.python.3.13_qbz5n2kfra8p0\\localcache\\local-packages\\python313\\site-packages (from pandas) (2025.2)\n",
      "Requirement already satisfied: six>=1.5 in c:\\users\\jakobwalden\\appdata\\local\\packages\\pythonsoftwarefoundation.python.3.13_qbz5n2kfra8p0\\localcache\\local-packages\\python313\\site-packages (from python-dateutil>=2.8.2->pandas) (1.17.0)\n",
      "Requirement already satisfied: charset-normalizer<4,>=2 in c:\\users\\jakobwalden\\appdata\\local\\packages\\pythonsoftwarefoundation.python.3.13_qbz5n2kfra8p0\\localcache\\local-packages\\python313\\site-packages (from requests<3.0.0,>=2.0.0->espn-api) (3.4.1)\n",
      "Requirement already satisfied: idna<4,>=2.5 in c:\\users\\jakobwalden\\appdata\\local\\packages\\pythonsoftwarefoundation.python.3.13_qbz5n2kfra8p0\\localcache\\local-packages\\python313\\site-packages (from requests<3.0.0,>=2.0.0->espn-api) (3.10)\n",
      "Requirement already satisfied: certifi>=2017.4.17 in c:\\users\\jakobwalden\\appdata\\local\\packages\\pythonsoftwarefoundation.python.3.13_qbz5n2kfra8p0\\localcache\\local-packages\\python313\\site-packages (from requests<3.0.0,>=2.0.0->espn-api) (2025.1.31)\n",
      "Using cached python_dotenv-1.1.1-py3-none-any.whl (20 kB)\n",
      "Using cached espn_api-0.45.1-py3-none-any.whl (67 kB)\n",
      "Using cached urllib3-2.2.3-py3-none-any.whl (126 kB)\n",
      "Installing collected packages: urllib3, python-dotenv, espn-api\n",
      "  Attempting uninstall: urllib3\n",
      "    Found existing installation: urllib3 2.3.0\n",
      "    Uninstalling urllib3-2.3.0:\n",
      "      Successfully uninstalled urllib3-2.3.0\n",
      "Successfully installed espn-api-0.45.1 python-dotenv-1.1.1 urllib3-2.2.3\n"
     ]
    },
    {
     "name": "stderr",
     "output_type": "stream",
     "text": [
      "  WARNING: The script dotenv.exe is installed in 'C:\\Users\\JakobWalden\\AppData\\Local\\Packages\\PythonSoftwareFoundation.Python.3.13_qbz5n2kfra8p0\\LocalCache\\local-packages\\Python313\\Scripts' which is not on PATH.\n",
      "  Consider adding this directory to PATH or, if you prefer to suppress this warning, use --no-warn-script-location.\n",
      "\n",
      "[notice] A new release of pip is available: 25.0.1 -> 25.2\n",
      "[notice] To update, run: C:\\Users\\JakobWalden\\AppData\\Local\\Microsoft\\WindowsApps\\PythonSoftwareFoundation.Python.3.13_qbz5n2kfra8p0\\python.exe -m pip install --upgrade pip\n"
     ]
    }
   ],
   "source": [
    "!pip install python-dotenv espn-api pandas"
   ]
  },
  {
   "cell_type": "code",
   "execution_count": 3,
   "id": "d421ebf1-0c37-4f40-9771-e2627a161a28",
   "metadata": {},
   "outputs": [],
   "source": [
    "import os\n",
    "from dotenv import load_dotenv, find_dotenv\n",
    "from espn_api.football import League"
   ]
  },
  {
   "cell_type": "code",
   "execution_count": 7,
   "id": "c34f9ad4-9b05-470d-bb5d-092624e01f01",
   "metadata": {},
   "outputs": [],
   "source": [
    "load_dotenv(find_dotenv(), override=True)\n",
    "\n",
    "league = League(\n",
    "    league_id=int(os.getenv(\"LEAGUE_ID\")),\n",
    "    year=int(os.getenv(\"YEAR\")),\n",
    "    espn_s2=os.getenv(\"ESPN_S2\"),\n",
    "    swid=os.getenv(\"SWID\"),\n",
    ")"
   ]
  },
  {
   "cell_type": "code",
   "execution_count": 8,
   "id": "967c29e3-ded6-46f6-8ec9-a785453a12e5",
   "metadata": {},
   "outputs": [
    {
     "name": "stdout",
     "output_type": "stream",
     "text": [
      "1 3rd and 6 inches\n",
      "2 CMC My D\n",
      "3 Team  Dirty Sanchez \n",
      "4 Team Nestor\n",
      "5 Ms. Billy’s\n",
      "7  Njigbas on Welfare\n",
      "8 Team Conndawg69\n",
      "9 Rub My Chubb\n",
      "10 Hey Scott Are You Awake\n",
      "11 Team Olmsted\n",
      "12 Team Pidcock\n",
      "13 Green Bowl Packers\n"
     ]
    }
   ],
   "source": [
    "for t in league.teams:\n",
    "    print(t.team_id, t.team_name)"
   ]
  },
  {
   "cell_type": "code",
   "execution_count": null,
   "id": "634fc12d-bd3f-4319-90dc-ff9474de7622",
   "metadata": {},
   "outputs": [],
   "source": []
  }
 ],
 "metadata": {
  "kernelspec": {
   "display_name": "Python 3 (ipykernel)",
   "language": "python",
   "name": "python3"
  },
  "language_info": {
   "codemirror_mode": {
    "name": "ipython",
    "version": 3
   },
   "file_extension": ".py",
   "mimetype": "text/x-python",
   "name": "python",
   "nbconvert_exporter": "python",
   "pygments_lexer": "ipython3",
   "version": "3.13.7"
  }
 },
 "nbformat": 4,
 "nbformat_minor": 5
}
